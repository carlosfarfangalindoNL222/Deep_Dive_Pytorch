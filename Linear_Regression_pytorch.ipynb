{
 "cells": [
  {
   "cell_type": "code",
   "execution_count": 1,
   "metadata": {
    "tags": [
     "hide-input"
    ]
   },
   "outputs": [
    {
     "name": "stdout",
     "output_type": "stream",
     "text": [
      "1.13.1\n"
     ]
    },
    {
     "data": {
      "text/plain": [
       "'torch.DoubleTensor'"
      ]
     },
     "execution_count": 1,
     "metadata": {},
     "output_type": "execute_result"
    }
   ],
   "source": [
    "import torch\n",
    "import torch.nn as nn\n",
    "import torch.optim as optim\n",
    "import pandas as pd\n",
    "import numpy as np\n",
    "import matplotlib.pyplot as plt\n",
    "from torch.utils.data import TensorDataset, DataLoader\n",
    "print(torch.__version__)  \n",
    "\n",
    "# Data from House Prices: Advanced Regression Techniques\n",
    "# Cleaned Data\n",
    "X_train_pd = pd.read_csv('X_train_HP.csv')\n",
    "y_train_pd = pd.read_csv('y_train_HP.csv')\n",
    "X_cv_pd = pd.read_csv('X_cv_HP.csv')\n",
    "y_cv_pd = pd.read_csv('y_cv_HP.csv')\n",
    "test_pd = pd.read_csv('test_skew_HP.csv')\n",
    "\n",
    "# Convert to tensor and check Datatype\n",
    "\n",
    "X_t = torch.from_numpy(X_train_pd.values)\n",
    "y_t = torch.from_numpy(y_train_pd.values)\n",
    "X_cv = torch.from_numpy(X_cv_pd.values)\n",
    "y_cv = torch.from_numpy(y_cv_pd.values)\n",
    "test = torch.from_numpy(test_pd.values)\n",
    "\n",
    "X_t.type()"
   ]
  },
  {
   "attachments": {},
   "cell_type": "markdown",
   "metadata": {},
   "source": [
    "# Neural Network\n",
    "*(Linear Regression with PyTorch)*"
   ]
  },
  {
   "cell_type": "code",
   "execution_count": null,
   "metadata": {},
   "outputs": [
    {
     "ename": "",
     "evalue": "",
     "output_type": "error",
     "traceback": [
      "\u001b[1;31mRunning cells with 'base' requires the ipykernel package.\n",
      "\u001b[1;31mRun the following command to install 'ipykernel' into the Python environment. \n",
      "\u001b[1;31mCommand: 'conda install -n base ipykernel --update-deps --force-reinstall'"
     ]
    }
   ],
   "source": [
    "def Abstract_2(X, y, X_cv, y_cv, test, batch_size, epochs, lr):\n",
    "    # Model\n",
    "    model = nn.Sequential(\n",
    "        # Input Layer\n",
    "        nn.Linear(X.shape[1], 32),\n",
    "        nn.ReLU(),\n",
    "        # Hidden Layers\n",
    "        nn.Linear(32, 32),\n",
    "        nn.ReLU(),\n",
    "        nn.Linear(32, 16),\n",
    "        nn.ReLU(),\n",
    "        # Output Layer\n",
    "        nn.Linear(16, 1),\n",
    "    )\n",
    "    # Loss and Optimizer with L2 Regularization\n",
    "    criterion = nn.MSELoss()\n",
    "    optimizer = torch.optim.Adam(model.parameters(), lr=lr, weight_decay=0.004)\n",
    "\n",
    "    # Create DataLoader for training data\n",
    "    train_data = TensorDataset(torch.Tensor(X).float(), torch.Tensor(y).float())\n",
    "    train_loader = DataLoader(train_data, batch_size=batch_size, shuffle=True)\n",
    "\n",
    "    # Create DataLoader for cross validation data\n",
    "    cv_data = TensorDataset(torch.Tensor(X_cv).float(), torch.Tensor(y_cv).float())\n",
    "    cv_loader = DataLoader(cv_data, batch_size=batch_size, shuffle=False)\n",
    "\n",
    "    # Train the Model\n",
    "    train_loss = []\n",
    "    cv_loss = []\n",
    "    for epoch in range(epochs):\n",
    "        for i, (inputs, labels) in enumerate(train_loader):\n",
    "            # Forward pass\n",
    "            outputs = model(inputs)\n",
    "            loss = criterion(outputs, labels)\n",
    "            print('loss: ', loss)\n",
    "            # Backward and optimize\n",
    "            optimizer.zero_grad()\n",
    "            loss.backward()\n",
    "            optimizer.step()\n",
    "\n",
    "            # Store the loss values\n",
    "            train_loss.append(loss.item())\n",
    "\n",
    "        # Compute CV Loss\n",
    "        with torch.no_grad():\n",
    "            for inputs_cv, labels_cv in cv_loader:\n",
    "                outputs_cv = model(inputs_cv)\n",
    "                loss_cv = criterion(outputs_cv, labels_cv)\n",
    "                cv_loss.append(loss_cv.item())\n",
    "\n",
    "        # Print Loss and CV Loss every 10 epochs\n",
    "        if (epoch+1) % 10 == 0:\n",
    "            print ('Epoch [%d/%d], Train Loss: %.4f, CV Loss: %.4f' \n",
    "                   %(epoch+1, epochs, train_loss[-1], cv_loss[-1]))\n",
    "\n",
    "    # Plot the loss curve\n",
    "    plt.plot(train_loss, label='Training Loss')\n",
    "    plt.plot(cv_loss, label='Cross-Validation Loss')\n",
    "    plt.legend()\n",
    "    plt.xlim(0, epochs*len(train_loader))\n",
    "    plt.ylim(0, 1)\n",
    "    plt.xlabel('Step')\n",
    "    plt.ylabel('Loss')\n",
    "    plt.show()\n",
    "\n",
    "    # Save the Model\n",
    "    torch.save(model.state_dict(), 'model_ab3.pkl')\n",
    "\n",
    "\n",
    "Abstract_2(X_t, y_t, X_cv, y_cv, test, 2, 1, 0.00001)\n"
   ]
  },
  {
   "cell_type": "code",
   "execution_count": 2,
   "metadata": {},
   "outputs": [
    {
     "name": "stdout",
     "output_type": "stream",
     "text": [
      "name: MSELoss pytorch/nn/modules/loss.py\n",
      "name: mseloss pytorch/nn/functionnal.py\n"
     ]
    },
    {
     "data": {
      "image/png": "[encoded data removed]",
      "text/plain": [
       "<Figure size 640x480 with 1 Axes>"
      ]
     },
     "metadata": {},
     "output_type": "display_data"
    }
   ],
   "source": [
    "def Abstract_1(X, y, X_cv, y_cv, test, epochs, lr):\n",
    "    # Model\n",
    "    model = nn.Sequential(\n",
    "        # Input Layer\n",
    "        nn.Linear(X.shape[1], 32),\n",
    "        nn.ReLU(),\n",
    "        # Hidden Layers\n",
    "        nn.Linear(32, 32),\n",
    "        nn.ReLU(),\n",
    "        nn.Linear(32, 16),\n",
    "        nn.ReLU(),\n",
    "        # Output Layer\n",
    "        nn.Linear(16, 1),\n",
    "    )\n",
    "    # Loss and Optimizer with L2 Regularization\n",
    "    criterion = nn.MSELoss()\n",
    "    optimizer = torch.optim.Adam(model.parameters(), lr=lr, weight_decay=0.004)\n",
    "\n",
    "    # Train the Model\n",
    "    train_loss = []\n",
    "    cv_loss = []\n",
    "    for epoch in range(epochs):\n",
    "\n",
    "        # Forward pass\n",
    "        outputs = model(X.float())\n",
    "        outputs_cv = model(X_cv.float())\n",
    "        loss = criterion(outputs, y.float())\n",
    "        # loss_cv = criterion(outputs_cv, y_cv.float())\n",
    "\n",
    "        # Backward and optimize\n",
    "        optimizer.zero_grad()\n",
    "        loss.backward()\n",
    "        optimizer.step()\n",
    "\n",
    "        # Store the loss values\n",
    "        train_loss.append(loss.item())\n",
    "        # cv_loss.append(loss_cv.item())\n",
    "\n",
    "        # Print Loss and CV Loss\n",
    "        if (epoch+1) % 100 == 0:\n",
    "            print ('Epoch [%d/%d], Train Loss: %.4f, CV Loss: %.4f' \n",
    "                   %(epoch+1, epochs, loss.item(), loss_cv.item()))\n",
    "\n",
    "    # Plot the loss curve\n",
    "    plt.plot(train_loss, label='Training Loss')\n",
    "    plt.plot(cv_loss, label='Cross-Validation Loss')\n",
    "    plt.legend()\n",
    "    plt.xlim(0, epochs)\n",
    "    plt.ylim(0, 0.1)\n",
    "    plt.xlabel('Epoch')\n",
    "    plt.ylabel('Loss')\n",
    "    plt.show()\n",
    "\n",
    "    # Save the Model\n",
    "    torch.save(model.state_dict(), 'model_ab3.pkl')\n",
    "\n",
    "# Call the function\n",
    "Abstract_1(X_t, y_t, X_cv, y_cv, test, 1, 0.00001)\n"
   ]
  },
  {
   "cell_type": "code",
   "execution_count": null,
   "metadata": {},
   "outputs": [
    {
     "ename": "",
     "evalue": "",
     "output_type": "error",
     "traceback": [
      "\u001b[1;31mRunning cells with 'base' requires the ipykernel package.\n",
      "\u001b[1;31mRun the following command to install 'ipykernel' into the Python environment. \n",
      "\u001b[1;31mCommand: 'conda install -n base ipykernel --update-deps --force-reinstall'"
     ]
    }
   ],
   "source": [
    "print(pred_ab1)"
   ]
  },
  {
   "cell_type": "code",
   "execution_count": null,
   "metadata": {},
   "outputs": [
    {
     "ename": "",
     "evalue": "",
     "output_type": "error",
     "traceback": [
      "\u001b[1;31mRunning cells with 'base' requires the ipykernel package.\n",
      "\u001b[1;31mRun the following command to install 'ipykernel' into the Python environment. \n",
      "\u001b[1;31mCommand: 'conda install -n base ipykernel --update-deps --force-reinstall'"
     ]
    }
   ],
   "source": [
    "# convert from 1logp format to normal p format\n",
    "pred_ab1 = np.exp(pred_ab1.detach().numpy()) - 1\n",
    "print(pred_ab1)"
   ]
  },
  {
   "cell_type": "code",
   "execution_count": null,
   "metadata": {},
   "outputs": [
    {
     "ename": "",
     "evalue": "",
     "output_type": "error",
     "traceback": [
      "\u001b[1;31mRunning cells with 'base' requires the ipykernel package.\n",
      "\u001b[1;31mRun the following command to install 'ipykernel' into the Python environment. \n",
      "\u001b[1;31mCommand: 'conda install -n base ipykernel --update-deps --force-reinstall'"
     ]
    }
   ],
   "source": [
    "#Create csv file for submission\n",
    "sub_df = pd.read_csv('sample_submission.csv', index_col = \"Id\")\n",
    "sub_df[\"SalePrice\"] = pred_ab1\n",
    "sub_df.to_csv('submission_ab1_5.csv')\n"
   ]
  },
  {
   "cell_type": "code",
   "execution_count": null,
   "metadata": {},
   "outputs": [
    {
     "ename": "",
     "evalue": "",
     "output_type": "error",
     "traceback": [
      "\u001b[1;31mRunning cells with 'base' requires the ipykernel package.\n",
      "\u001b[1;31mRun the following command to install 'ipykernel' into the Python environment. \n",
      "\u001b[1;31mCommand: 'conda install -n base ipykernel --update-deps --force-reinstall'"
     ]
    }
   ],
   "source": []
  }
 ],
 "metadata": {
  "kernelspec": {
   "display_name": "Python 3",
   "language": "python",
   "name": "python3"
  },
  "language_info": {
   "codemirror_mode": {
    "name": "ipython",
    "version": 3
   },
   "file_extension": ".py",
   "mimetype": "text/x-python",
   "name": "python",
   "nbconvert_exporter": "python",
   "pygments_lexer": "ipython3",
   "version": "3.10.8"
  },
  "orig_nbformat": 4,
  "vscode": {
   "interpreter": {
    "hash": "aee8b7b246df8f9039afb4144a1f6fd8d2ca17a180786b69acc140d282b71a49"
   }
  }
 },
 "nbformat": 4,
 "nbformat_minor": 2
}
